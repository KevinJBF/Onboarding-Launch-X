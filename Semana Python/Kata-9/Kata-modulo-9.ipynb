{
 "cells": [
  {
   "cell_type": "markdown",
   "metadata": {},
   "source": [
    "Ejercicio: Uso de funciones en Python"
   ]
  },
  {
   "cell_type": "code",
   "execution_count": 3,
   "metadata": {},
   "outputs": [
    {
     "name": "stdout",
     "output_type": "stream",
     "text": [
      "43.333333333333336\n"
     ]
    }
   ],
   "source": [
    "def CombustibleProm(t1, t2, t3):\n",
    "    return (t1 + t2 + t3)/3\n",
    "\n",
    "def Inform():\n",
    "    print(CombustibleProm(34, 67, 29))\n",
    "\n",
    "Inform()"
   ]
  },
  {
   "cell_type": "markdown",
   "metadata": {},
   "source": [
    "Ejercicio 2: Trabajo con argumentos de palabra clave"
   ]
  },
  {
   "cell_type": "code",
   "execution_count": 11,
   "metadata": {},
   "outputs": [
    {
     "name": "stdout",
     "output_type": "stream",
     "text": [
      "Hora prelanzamiento: 14\n",
      "    Tiempo de vuelo: 51\n",
      "    Tanque externo: 200000\n",
      "    Tanque interno: 300000\n",
      "Destino: Moon\n",
      "    Tiempo de vuelo: 76 minutos\n",
      "    Combustible restante 500000\n",
      "Destino: Mars\n",
      "    Tiempo de vuelo: 76 minutos\n",
      "    Combustible restante 750000\n",
      "    main tanque contiene 500000 galonesexternal tanque contiene 250000 galones\n"
     ]
    }
   ],
   "source": [
    "def Informe(time, flyTime, destiny, externalTank, internalTank):\n",
    "    return f\"\"\"Hora prelanzamiento: {time}\n",
    "    Tiempo de vuelo: {flyTime}\n",
    "    Tanque externo: {externalTank}\n",
    "    Tanque interno: {internalTank}\"\"\"\n",
    "\n",
    "print(Informe(14, 51, \"Moon\", 200000, 300000))  \n",
    "\n",
    "def Informe2(destiny, *minutes, **fuel_reservoirs):\n",
    "    return f\"\"\"Destino: {destiny}\n",
    "    Tiempo de vuelo: {sum(minutes)} minutos\n",
    "    Combustible restante {sum(fuel_reservoirs.values())}\"\"\"\n",
    "\n",
    "print(Informe2(\"Moon\", 10, 15, 51, main=300000, external=200000))\n",
    "\n",
    "def Informe3(destiny, *minutes, **fuel_reservoirs):\n",
    "    report = f\"\"\"Destino: {destiny}\n",
    "    Tiempo de vuelo: {sum(minutes)} minutos\n",
    "    Combustible restante {sum(fuel_reservoirs.values())}\n",
    "    \"\"\"\n",
    "\n",
    "    for tank, gallons in fuel_reservoirs.items():\n",
    "        report += f\"{tank} tanque contiene {gallons} galones\"\n",
    "\n",
    "    return report\n",
    "\n",
    "print(Informe3(\"Mars\", 10, 15, 51, main=500000, external=250000))"
   ]
  }
 ],
 "metadata": {
  "interpreter": {
   "hash": "2be5faf79681da6f2a61fdfdd5405d65d042280f7fba6178067603e3a2925119"
  },
  "kernelspec": {
   "display_name": "Python 3.10.2 64-bit",
   "language": "python",
   "name": "python3"
  },
  "language_info": {
   "codemirror_mode": {
    "name": "ipython",
    "version": 3
   },
   "file_extension": ".py",
   "mimetype": "text/x-python",
   "name": "python",
   "nbconvert_exporter": "python",
   "pygments_lexer": "ipython3",
   "version": "3.10.2"
  },
  "orig_nbformat": 4
 },
 "nbformat": 4,
 "nbformat_minor": 2
}
