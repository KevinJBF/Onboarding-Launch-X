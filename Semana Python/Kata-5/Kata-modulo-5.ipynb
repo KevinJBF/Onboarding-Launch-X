{
 "cells": [
  {
   "cell_type": "code",
   "execution_count": null,
   "metadata": {},
   "outputs": [],
   "source": [
    "pip install ipywidgets"
   ]
  },
  {
   "cell_type": "markdown",
   "metadata": {},
   "source": [
    "Ejercicio1 - Utilizar operadores aritméticos"
   ]
  },
  {
   "cell_type": "code",
   "execution_count": 4,
   "metadata": {},
   "outputs": [
    {
     "name": "stdout",
     "output_type": "stream",
     "text": [
      "la distancia entre 149597.87 y 778547.2 es 628949.33 km o 390577.53393 millas\n"
     ]
    }
   ],
   "source": [
    "planet1 = 149597.870 #km \n",
    "planet2 = 778547.200 #km\n",
    "\n",
    "distanceKm = abs(planet1 - planet2)\n",
    "distanceMil = distanceKm * 0.621\n",
    "print(f\"\"\"la distancia entre {planet1} y {planet2} es {distanceKm} km o {distanceMil} millas\"\"\")\n"
   ]
  },
  {
   "cell_type": "markdown",
   "metadata": {},
   "source": [
    "Ejercicio 2: convierte cadenas en números y usa valores absolutos"
   ]
  },
  {
   "cell_type": "code",
   "execution_count": 1,
   "metadata": {},
   "outputs": [],
   "source": [
    "num1 = input(\"Distancia planeta 1\")\n",
    "num2 = input(\"Distancia planeta 2\")\n",
    "\n",
    "num1 = int(num1)\n",
    "num2 = int(num2)\n",
    "\n",
    "distanceKm = abs(num1-num2)\n",
    "print(distanceKm)\n",
    "\n",
    "distanceMil = abs(distanceKm * 0.621)\n",
    "print(distanceMil)"
   ]
  }
 ],
 "metadata": {
  "interpreter": {
   "hash": "2be5faf79681da6f2a61fdfdd5405d65d042280f7fba6178067603e3a2925119"
  },
  "kernelspec": {
   "display_name": "Python 3.10.2 64-bit",
   "language": "python",
   "name": "python3"
  },
  "language_info": {
   "codemirror_mode": {
    "name": "ipython",
    "version": 3
   },
   "file_extension": ".py",
   "mimetype": "text/x-python",
   "name": "python",
   "nbconvert_exporter": "python",
   "pygments_lexer": "ipython3",
   "version": "3.10.2"
  },
  "orig_nbformat": 4
 },
 "nbformat": 4,
 "nbformat_minor": 2
}
