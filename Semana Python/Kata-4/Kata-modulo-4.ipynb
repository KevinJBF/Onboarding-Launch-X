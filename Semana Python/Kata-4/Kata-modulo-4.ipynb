{
 "cells": [
  {
   "cell_type": "markdown",
   "metadata": {},
   "source": [
    "Ejercicio 1: Transformar cadenas"
   ]
  },
  {
   "cell_type": "code",
   "execution_count": null,
   "metadata": {},
   "outputs": [],
   "source": [
    "pip install ipywidgets"
   ]
  },
  {
   "cell_type": "code",
   "execution_count": 1,
   "metadata": {},
   "outputs": [
    {
     "name": "stdout",
     "output_type": "stream",
     "text": [
      "The Moon is Earth's only satellite\n",
      "On average, the Moon moves 4cm away from the Earth every year\n",
      "The highest daylight temperature of the Moon is 127 C.\n",
      "The Moon is Earth's only satellite\n",
      "On average, the Moon moves 4cm away from the Earth every year\n",
      "The highest daylight temperature of the Moon is 127 Celsius.\n"
     ]
    }
   ],
   "source": [
    "text = \"\"\"Interesting facts about the Moon. The Moon is Earth's only satellite. There are several interesting facts about the Moon and how it affects life here on Earth. On average, the Moon moves 4cm away from the Earth every year. This yearly drift is not significant enough to cause immediate effects on Earth. The highest daylight temperature of the Moon is 127 C.\"\"\"\n",
    "sentences = text.split(\". \")\n",
    "words = [\"satellite\", \"average\", \"distance\", \"temperature\"]\n",
    "\n",
    "for sentence in sentences:\n",
    "    for word in words:\n",
    "        if word in sentence:\n",
    "            print(sentence)\n",
    "            break\n",
    "\n",
    "for sentence in sentences:\n",
    "    for word in words:\n",
    "        if word in  sentence:\n",
    "            print(sentence.replace(\" C\", \" Celsius\"))\n",
    "            break\n"
   ]
  },
  {
   "cell_type": "markdown",
   "metadata": {},
   "source": [
    "Ejercicio 2: Formateando Cadenas"
   ]
  },
  {
   "cell_type": "code",
   "execution_count": 9,
   "metadata": {},
   "outputs": [
    {
     "name": "stdout",
     "output_type": "stream",
     "text": [
      "Datos De Gravedad Sobte Ganímides\n",
      "--------------------------------------------------------------------------------\n",
      "Planet Name: 2\n",
      "Gravity on 0: 1 m/s2\n",
      "\n",
      "Datos sobre la gravedad de : Ganímides\n",
      "-----------------------------------------------------------------------\n",
      "Planeta: Marte\n",
      "Gravedad en Ganímides: 1.4300000000000002 m/s2\n",
      "\n"
     ]
    }
   ],
   "source": [
    "name = \"Ganímides\"\n",
    "gravity = 0.00143 # in kms\n",
    "planet = \"Marte\"\n",
    "gravityM2 = gravity * 1000\n",
    "\n",
    "title = f\"\"\"datos de gravedad sobte {name}\"\"\"\n",
    "\n",
    "facts = f\"\"\"{'-'*80}\n",
    "Planet Name: {2}\n",
    "Gravity on {0}: {1} m/s2\"\"\".format(name, gravityM2, planet)\n",
    "\n",
    "text = f\"\"\"{title.title()}\n",
    "{facts}\"\"\"\n",
    "\n",
    "print(text)\n",
    "\n",
    "\n",
    "newTemplate = \"\"\"\n",
    "Datos sobre la gravedad de : {nombre}\n",
    "-----------------------------------------------------------------------\n",
    "Planeta: {planeta}\n",
    "Gravedad en {nombre}: {gravedad} m/s2\n",
    "\"\"\"\n",
    "\n",
    "print(newTemplate.format(nombre = name, planeta = planet, gravedad = gravityM2))"
   ]
  }
 ],
 "metadata": {
  "interpreter": {
   "hash": "2be5faf79681da6f2a61fdfdd5405d65d042280f7fba6178067603e3a2925119"
  },
  "kernelspec": {
   "display_name": "Python 3.10.2 64-bit",
   "language": "python",
   "name": "python3"
  },
  "language_info": {
   "codemirror_mode": {
    "name": "ipython",
    "version": 3
   },
   "file_extension": ".py",
   "mimetype": "text/x-python",
   "name": "python",
   "nbconvert_exporter": "python",
   "pygments_lexer": "ipython3",
   "version": "3.10.2"
  },
  "orig_nbformat": 4
 },
 "nbformat": 4,
 "nbformat_minor": 2
}
