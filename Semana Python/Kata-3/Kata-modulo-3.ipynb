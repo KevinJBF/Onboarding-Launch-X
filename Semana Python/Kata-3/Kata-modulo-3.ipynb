{
 "cells": [
  {
   "cell_type": "markdown",
   "metadata": {},
   "source": [
    "Ejercicio - Escribir declaraciones if, else, y elif"
   ]
  },
  {
   "cell_type": "markdown",
   "metadata": {},
   "source": [
    "Ejercicio 1"
   ]
  },
  {
   "cell_type": "code",
   "execution_count": null,
   "metadata": {},
   "outputs": [],
   "source": [
    "velocidad = 49\n",
    "if velocidad > 25:\n",
    "    print('¡Oh no! ¡Un asteroide viene muy rapido D:!')\n",
    "else:\n",
    "    print('Todo normal, todo tranquilo uwu')"
   ]
  },
  {
   "cell_type": "markdown",
   "metadata": {},
   "source": [
    "Ejercicio 3"
   ]
  },
  {
   "cell_type": "code",
   "execution_count": null,
   "metadata": {},
   "outputs": [],
   "source": [
    "velocity = 49\n",
    "\n",
    "if velocity > 20:\n",
    "    print(\"miren el cielo!\")\n",
    "elif velocity == 20:\n",
    "    print(\"miren el cielo!\")\n",
    "else:\n",
    "    print(\"No hay asteroide que ver :c\")\n"
   ]
  },
  {
   "cell_type": "markdown",
   "metadata": {},
   "source": [
    "Ejercicio 3"
   ]
  },
  {
   "cell_type": "code",
   "execution_count": null,
   "metadata": {},
   "outputs": [],
   "source": [
    "vel = 25\n",
    "size = 40\n",
    "if vel > 25 and size > 25:\n",
    "    print('¡Un asteroide muy peligrosose acerca a la Tierra!')\n",
    "elif vel >= 20:\n",
    "    print('Mira la lux en el cielo uwu')\n",
    "elif size < 25:\n",
    "    print('Nada de nada')\n",
    "else:\n",
    "    print('Un dia normal')"
   ]
  }
 ],
 "metadata": {
  "language_info": {
   "name": "python"
  },
  "orig_nbformat": 4
 },
 "nbformat": 4,
 "nbformat_minor": 2
}
