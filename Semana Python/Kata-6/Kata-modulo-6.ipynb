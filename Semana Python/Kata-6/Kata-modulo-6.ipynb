{
 "cells": [
  {
   "cell_type": "markdown",
   "metadata": {},
   "source": [
    "Ejercicio1: Crear y usar listas de Python"
   ]
  },
  {
   "cell_type": "code",
   "execution_count": 4,
   "metadata": {},
   "outputs": [
    {
     "name": "stdout",
     "output_type": "stream",
     "text": [
      "Mercurio\n",
      "Venus\n",
      "Tierra\n",
      "Marte\n",
      "Júpiter\n",
      "Saturno\n",
      "Urano\n",
      "Neptuno\n",
      "Plutón\n"
     ]
    }
   ],
   "source": [
    "planets = [\"Mercurio\", \"Venus\", \"Tierra\", \"Marte\", \"Júpiter\", \"Saturno\", \"Urano\", \"Neptuno\"]\n",
    "\n",
    "for planet in planets:\n",
    "    print(planet)\n",
    "\n",
    "planets.append(\"Plutón\")\n",
    "print(planets[len(planets) - 1])\n"
   ]
  },
  {
   "cell_type": "markdown",
   "metadata": {},
   "source": [
    "Ejercicio 2: Trabajando con datos de una lista"
   ]
  },
  {
   "cell_type": "code",
   "execution_count": 6,
   "metadata": {},
   "outputs": [
    {
     "name": "stdout",
     "output_type": "stream",
     "text": [
      "El planeta ingresado esta en la posición 3\n",
      "Los planetas más cercanos al sol respecto al planeta ingresado son:\n",
      "['Mercurio', 'Venus', 'Tierra']\n",
      "Los planetas más alejados del sol respecto al planeta ingresado son:\n",
      "['Júpiter', 'Saturno', 'Urano', 'Neptuno']\n"
     ]
    }
   ],
   "source": [
    "planets = [\"Mercurio\", \"Venus\", \"Tierra\", \"Marte\", \"Júpiter\", \"Saturno\", \"Urano\", \"Neptuno\"]\n",
    "\n",
    "userPlanet = input(\"Ingresa el nombre de un planeta\")\n",
    "planetIndex = int(planets.index(userPlanet))\n",
    "\n",
    "print(\"El planeta ingresado esta en la posición \" + str(planetIndex))\n",
    "\n",
    "print(\"Los planetas más cercanos al sol respecto al planeta ingresado son:\")\n",
    "\n",
    "planetsCloseSun = planets[0:planetIndex]\n",
    "print(planetsCloseSun)\n",
    "\n",
    "print(\"Los planetas más alejados del sol respecto al planeta ingresado son:\")\n",
    "planetsFarSun = planets[planetIndex + 1 : ]\n",
    "print(planetsFarSun)\n"
   ]
  }
 ],
 "metadata": {
  "interpreter": {
   "hash": "2be5faf79681da6f2a61fdfdd5405d65d042280f7fba6178067603e3a2925119"
  },
  "kernelspec": {
   "display_name": "Python 3.10.2 64-bit",
   "language": "python",
   "name": "python3"
  },
  "language_info": {
   "codemirror_mode": {
    "name": "ipython",
    "version": 3
   },
   "file_extension": ".py",
   "mimetype": "text/x-python",
   "name": "python",
   "nbconvert_exporter": "python",
   "pygments_lexer": "ipython3",
   "version": "3.10.2"
  },
  "orig_nbformat": 4
 },
 "nbformat": 4,
 "nbformat_minor": 2
}
